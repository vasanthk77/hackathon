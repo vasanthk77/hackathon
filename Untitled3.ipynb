{
 "cells": [
  {
   "cell_type": "code",
   "execution_count": 1,
   "id": "1c7fa878",
   "metadata": {},
   "outputs": [],
   "source": [
    "import pandas as pd\n",
    "import numpy as np\n",
    "import seaborn as sns\n",
    "import matplotlib.pyplot as plt"
   ]
  },
  {
   "cell_type": "code",
   "execution_count": 2,
   "id": "0277a200",
   "metadata": {},
   "outputs": [],
   "source": [
    "a=pd.read_csv(\"C:\\\\Users\\\\vasan\\\\Downloads\\\\new_data.csv\")"
   ]
  },
  {
   "cell_type": "code",
   "execution_count": 3,
   "id": "8fc4a73c",
   "metadata": {},
   "outputs": [],
   "source": [
    "df=pd.DataFrame(a)"
   ]
  },
  {
   "cell_type": "code",
   "execution_count": 4,
   "id": "cc6b35d8",
   "metadata": {},
   "outputs": [
    {
     "data": {
      "text/html": [
       "<div>\n",
       "<style scoped>\n",
       "    .dataframe tbody tr th:only-of-type {\n",
       "        vertical-align: middle;\n",
       "    }\n",
       "\n",
       "    .dataframe tbody tr th {\n",
       "        vertical-align: top;\n",
       "    }\n",
       "\n",
       "    .dataframe thead th {\n",
       "        text-align: right;\n",
       "    }\n",
       "</style>\n",
       "<table border=\"1\" class=\"dataframe\">\n",
       "  <thead>\n",
       "    <tr style=\"text-align: right;\">\n",
       "      <th></th>\n",
       "      <th>input</th>\n",
       "      <th>output</th>\n",
       "    </tr>\n",
       "  </thead>\n",
       "  <tbody>\n",
       "    <tr>\n",
       "      <th>0</th>\n",
       "      <td>-122.740667</td>\n",
       "      <td>-130.572085</td>\n",
       "    </tr>\n",
       "    <tr>\n",
       "      <th>1</th>\n",
       "      <td>-121.531419</td>\n",
       "      <td>-129.938929</td>\n",
       "    </tr>\n",
       "    <tr>\n",
       "      <th>2</th>\n",
       "      <td>-134.917019</td>\n",
       "      <td>-130.141832</td>\n",
       "    </tr>\n",
       "    <tr>\n",
       "      <th>3</th>\n",
       "      <td>-120.605951</td>\n",
       "      <td>-125.760932</td>\n",
       "    </tr>\n",
       "    <tr>\n",
       "      <th>4</th>\n",
       "      <td>-129.894781</td>\n",
       "      <td>-112.785214</td>\n",
       "    </tr>\n",
       "  </tbody>\n",
       "</table>\n",
       "</div>"
      ],
      "text/plain": [
       "        input      output\n",
       "0 -122.740667 -130.572085\n",
       "1 -121.531419 -129.938929\n",
       "2 -134.917019 -130.141832\n",
       "3 -120.605951 -125.760932\n",
       "4 -129.894781 -112.785214"
      ]
     },
     "execution_count": 4,
     "metadata": {},
     "output_type": "execute_result"
    }
   ],
   "source": [
    "df.head()"
   ]
  },
  {
   "cell_type": "code",
   "execution_count": 5,
   "id": "a27fdd78",
   "metadata": {},
   "outputs": [
    {
     "data": {
      "text/plain": [
       "(1697, 2)"
      ]
     },
     "execution_count": 5,
     "metadata": {},
     "output_type": "execute_result"
    }
   ],
   "source": [
    "df.shape"
   ]
  },
  {
   "cell_type": "code",
   "execution_count": 6,
   "id": "ea21c609",
   "metadata": {},
   "outputs": [
    {
     "data": {
      "text/plain": [
       "input     1\n",
       "output    1\n",
       "dtype: int64"
      ]
     },
     "execution_count": 6,
     "metadata": {},
     "output_type": "execute_result"
    }
   ],
   "source": [
    "df.isnull().sum()"
   ]
  },
  {
   "cell_type": "code",
   "execution_count": 7,
   "id": "8020ea93",
   "metadata": {},
   "outputs": [
    {
     "name": "stderr",
     "output_type": "stream",
     "text": [
      "C:\\Users\\vasan\\anaconda3\\lib\\site-packages\\seaborn\\_decorators.py:36: FutureWarning: Pass the following variable as a keyword arg: x. From version 0.12, the only valid positional argument will be `data`, and passing other arguments without an explicit keyword will result in an error or misinterpretation.\n",
      "  warnings.warn(\n"
     ]
    },
    {
     "data": {
      "text/plain": [
       "<AxesSubplot: xlabel='input'>"
      ]
     },
     "execution_count": 7,
     "metadata": {},
     "output_type": "execute_result"
    },
    {
     "data": {
      "image/png": "[encoded data removed]",
      "text/plain": [
       "<Figure size 432x288 with 1 Axes>"
      ]
     },
     "metadata": {
      "needs_background": "light"
     },
     "output_type": "display_data"
    }
   ],
   "source": [
    "sns.boxplot(\"input\",data=df)"
   ]
  },
  {
   "cell_type": "code",
   "execution_count": 8,
   "id": "264b1d50",
   "metadata": {},
   "outputs": [
    {
     "name": "stderr",
     "output_type": "stream",
     "text": [
      "C:\\Users\\vasan\\anaconda3\\lib\\site-packages\\seaborn\\_decorators.py:36: FutureWarning: Pass the following variable as a keyword arg: x. From version 0.12, the only valid positional argument will be `data`, and passing other arguments without an explicit keyword will result in an error or misinterpretation.\n",
      "  warnings.warn(\n"
     ]
    },
    {
     "data": {
      "text/plain": [
       "<AxesSubplot: xlabel='output'>"
      ]
     },
     "execution_count": 8,
     "metadata": {},
     "output_type": "execute_result"
    },
    {
     "data": {
      "image/png": "[encoded data removed]",
      "text/plain": [
       "<Figure size 432x288 with 1 Axes>"
      ]
     },
     "metadata": {
      "needs_background": "light"
     },
     "output_type": "display_data"
    }
   ],
   "source": [
    "sns.boxplot(\"output\",data=df)"
   ]
  },
  {
   "cell_type": "code",
   "execution_count": 9,
   "id": "d2a2d31b",
   "metadata": {},
   "outputs": [
    {
     "data": {
      "text/plain": [
       "-125.366669    11\n",
       " 112.633331    10\n",
       "-131.366669     8\n",
       "-119.366669     8\n",
       " 80.633331      7\n",
       "               ..\n",
       "-14.879573      1\n",
       "-7.366669       1\n",
       " 0.106496       1\n",
       " 0.641190       1\n",
       "-110.344221     1\n",
       "Name: input, Length: 991, dtype: int64"
      ]
     },
     "execution_count": 9,
     "metadata": {},
     "output_type": "execute_result"
    }
   ],
   "source": [
    "df['input'].value_counts()"
   ]
  },
  {
   "cell_type": "code",
   "execution_count": 10,
   "id": "c0421d9c",
   "metadata": {},
   "outputs": [
    {
     "data": {
      "text/plain": [
       "-95.000000     32\n",
       "-33.000000     12\n",
       "-78.000000     12\n",
       "-32.000000     10\n",
       "-75.000000     10\n",
       "               ..\n",
       "-108.925420     1\n",
       "-80.761170      1\n",
       "-89.922634      1\n",
       "-109.797457     1\n",
       " 123.087950     1\n",
       "Name: output, Length: 969, dtype: int64"
      ]
     },
     "execution_count": 10,
     "metadata": {},
     "output_type": "execute_result"
    }
   ],
   "source": [
    "df['output'].value_counts()"
   ]
  },
  {
   "cell_type": "code",
   "execution_count": 11,
   "id": "842fc354",
   "metadata": {},
   "outputs": [
    {
     "name": "stdout",
     "output_type": "stream",
     "text": [
      "<class 'pandas.core.frame.DataFrame'>\n",
      "RangeIndex: 1697 entries, 0 to 1696\n",
      "Data columns (total 2 columns):\n",
      " #   Column  Non-Null Count  Dtype  \n",
      "---  ------  --------------  -----  \n",
      " 0   input   1696 non-null   float64\n",
      " 1   output  1696 non-null   float64\n",
      "dtypes: float64(2)\n",
      "memory usage: 26.6 KB\n"
     ]
    }
   ],
   "source": [
    "df.info()"
   ]
  },
  {
   "cell_type": "code",
   "execution_count": 24,
   "id": "650f403c",
   "metadata": {},
   "outputs": [
    {
     "name": "stderr",
     "output_type": "stream",
     "text": [
      "C:\\Users\\vasan\\anaconda3\\lib\\site-packages\\seaborn\\distributions.py:2619: FutureWarning: `distplot` is a deprecated function and will be removed in a future version. Please adapt your code to use either `displot` (a figure-level function with similar flexibility) or `histplot` (an axes-level function for histograms).\n",
      "  warnings.warn(msg, FutureWarning)\n"
     ]
    },
    {
     "data": {
      "text/plain": [
       "<AxesSubplot: ylabel='Density'>"
      ]
     },
     "execution_count": 24,
     "metadata": {},
     "output_type": "execute_result"
    },
    {
     "data": {
      "image/png": "[encoded data removed]",
      "text/plain": [
       "<Figure size 432x288 with 1 Axes>"
      ]
     },
     "metadata": {
      "needs_background": "light"
     },
     "output_type": "display_data"
    }
   ],
   "source": [
    "sns.distplot(df)"
   ]
  },
  {
   "cell_type": "code",
   "execution_count": 18,
   "id": "3763cc47",
   "metadata": {},
   "outputs": [],
   "source": [
    "df['input'].fillna(-125.366669,inplace=True) ###replacing null values with most repeating number"
   ]
  },
  {
   "cell_type": "code",
   "execution_count": 20,
   "id": "a98f5a75",
   "metadata": {},
   "outputs": [],
   "source": [
    "df['output'].fillna(-95.00,inplace=True)"
   ]
  },
  {
   "cell_type": "code",
   "execution_count": 21,
   "id": "6018841c",
   "metadata": {},
   "outputs": [
    {
     "data": {
      "text/plain": [
       "input     0\n",
       "output    0\n",
       "dtype: int64"
      ]
     },
     "execution_count": 21,
     "metadata": {},
     "output_type": "execute_result"
    }
   ],
   "source": [
    "df.isnull().sum()"
   ]
  },
  {
   "cell_type": "code",
   "execution_count": 22,
   "id": "74b9dc85",
   "metadata": {},
   "outputs": [
    {
     "name": "stderr",
     "output_type": "stream",
     "text": [
      "C:\\Users\\vasan\\anaconda3\\lib\\site-packages\\seaborn\\_decorators.py:36: FutureWarning: Pass the following variable as a keyword arg: x. From version 0.12, the only valid positional argument will be `data`, and passing other arguments without an explicit keyword will result in an error or misinterpretation.\n",
      "  warnings.warn(\n"
     ]
    },
    {
     "data": {
      "text/plain": [
       "<AxesSubplot: xlabel='input'>"
      ]
     },
     "execution_count": 22,
     "metadata": {},
     "output_type": "execute_result"
    },
    {
     "data": {
      "image/png": "[encoded data removed]",
      "text/plain": [
       "<Figure size 432x288 with 1 Axes>"
      ]
     },
     "metadata": {
      "needs_background": "light"
     },
     "output_type": "display_data"
    }
   ],
   "source": [
    "### checking for the outliers\n",
    "sns.boxplot('input',data=df) \n",
    "###there is no outliers"
   ]
  },
  {
   "cell_type": "code",
   "execution_count": 25,
   "id": "a88f1980",
   "metadata": {},
   "outputs": [
    {
     "name": "stderr",
     "output_type": "stream",
     "text": [
      "C:\\Users\\vasan\\anaconda3\\lib\\site-packages\\seaborn\\distributions.py:2619: FutureWarning: `distplot` is a deprecated function and will be removed in a future version. Please adapt your code to use either `displot` (a figure-level function with similar flexibility) or `histplot` (an axes-level function for histograms).\n",
      "  warnings.warn(msg, FutureWarning)\n"
     ]
    },
    {
     "data": {
      "text/plain": [
       "<AxesSubplot: ylabel='Density'>"
      ]
     },
     "execution_count": 25,
     "metadata": {},
     "output_type": "execute_result"
    },
    {
     "data": {
      "image/png": "[encoded data removed]",
      "text/plain": [
       "<Figure size 432x288 with 1 Axes>"
      ]
     },
     "metadata": {
      "needs_background": "light"
     },
     "output_type": "display_data"
    }
   ],
   "source": [
    "sns.distplot(df)"
   ]
  },
  {
   "cell_type": "code",
   "execution_count": 26,
   "id": "c126ab92",
   "metadata": {},
   "outputs": [
    {
     "name": "stderr",
     "output_type": "stream",
     "text": [
      "C:\\Users\\vasan\\anaconda3\\lib\\site-packages\\seaborn\\_decorators.py:36: FutureWarning: Pass the following variable as a keyword arg: x. From version 0.12, the only valid positional argument will be `data`, and passing other arguments without an explicit keyword will result in an error or misinterpretation.\n",
      "  warnings.warn(\n"
     ]
    },
    {
     "data": {
      "text/plain": [
       "<AxesSubplot: xlabel='output'>"
      ]
     },
     "execution_count": 26,
     "metadata": {},
     "output_type": "execute_result"
    },
    {
     "data": {
      "image/png": "[encoded data removed]",
      "text/plain": [
       "<Figure size 432x288 with 1 Axes>"
      ]
     },
     "metadata": {
      "needs_background": "light"
     },
     "output_type": "display_data"
    }
   ],
   "source": [
    "sns.boxplot('output',data=df)"
   ]
  },
  {
   "cell_type": "code",
   "execution_count": 28,
   "id": "7df163ce",
   "metadata": {},
   "outputs": [
    {
     "name": "stdout",
     "output_type": "stream",
     "text": [
      "69.02676665\n"
     ]
    }
   ],
   "source": [
    "### remvoing the outliers\n",
    "IQR=df['output'].quantile(0.75)-df['output'].quantile(0.25)\n",
    "print(IQR)"
   ]
  },
  {
   "cell_type": "code",
   "execution_count": 29,
   "id": "2b19e545",
   "metadata": {},
   "outputs": [
    {
     "name": "stdout",
     "output_type": "stream",
     "text": [
      "-183.56691662499998\n",
      "92.54014997499999\n"
     ]
    },
    {
     "data": {
      "text/plain": [
       "(None, None)"
      ]
     },
     "execution_count": 29,
     "metadata": {},
     "output_type": "execute_result"
    }
   ],
   "source": [
    "lower_fence=df['output'].quantile(0.25)-(IQR*1.5)\n",
    "upper_fence=df['output'].quantile(0.75)+(IQR*1.5)\n",
    "print(lower_fence),print(upper_fence)"
   ]
  },
  {
   "cell_type": "code",
   "execution_count": 31,
   "id": "dc2d4a7e",
   "metadata": {},
   "outputs": [],
   "source": [
    "df1=df.copy()"
   ]
  },
  {
   "cell_type": "code",
   "execution_count": 33,
   "id": "6d46425d",
   "metadata": {},
   "outputs": [],
   "source": [
    "df1.loc[df1['output']>=92,'output']=92\n",
    "df1.loc[df1['output']<=-183,'output']=-183"
   ]
  },
  {
   "cell_type": "code",
   "execution_count": 35,
   "id": "930038ab",
   "metadata": {},
   "outputs": [
    {
     "data": {
      "text/plain": [
       "<AxesSubplot: xlabel='output'>"
      ]
     },
     "execution_count": 35,
     "metadata": {},
     "output_type": "execute_result"
    },
    {
     "data": {
      "image/png": "[encoded data removed]",
      "text/plain": [
       "<Figure size 432x288 with 1 Axes>"
      ]
     },
     "metadata": {
      "needs_background": "light"
     },
     "output_type": "display_data"
    }
   ],
   "source": [
    "### after removing outliers\n",
    "sns.boxplot('output',data=df1)"
   ]
  },
  {
   "cell_type": "code",
   "execution_count": 36,
   "id": "18e5d060",
   "metadata": {},
   "outputs": [
    {
     "data": {
      "text/html": [
       "<div>\n",
       "<style scoped>\n",
       "    .dataframe tbody tr th:only-of-type {\n",
       "        vertical-align: middle;\n",
       "    }\n",
       "\n",
       "    .dataframe tbody tr th {\n",
       "        vertical-align: top;\n",
       "    }\n",
       "\n",
       "    .dataframe thead th {\n",
       "        text-align: right;\n",
       "    }\n",
       "</style>\n",
       "<table border=\"1\" class=\"dataframe\">\n",
       "  <thead>\n",
       "    <tr style=\"text-align: right;\">\n",
       "      <th></th>\n",
       "      <th>input</th>\n",
       "      <th>output</th>\n",
       "    </tr>\n",
       "  </thead>\n",
       "  <tbody>\n",
       "    <tr>\n",
       "      <th>0</th>\n",
       "      <td>-122.740667</td>\n",
       "      <td>-130.572085</td>\n",
       "    </tr>\n",
       "    <tr>\n",
       "      <th>1</th>\n",
       "      <td>-121.531419</td>\n",
       "      <td>-129.938929</td>\n",
       "    </tr>\n",
       "    <tr>\n",
       "      <th>2</th>\n",
       "      <td>-134.917019</td>\n",
       "      <td>-130.141832</td>\n",
       "    </tr>\n",
       "    <tr>\n",
       "      <th>3</th>\n",
       "      <td>-120.605951</td>\n",
       "      <td>-125.760932</td>\n",
       "    </tr>\n",
       "    <tr>\n",
       "      <th>4</th>\n",
       "      <td>-129.894781</td>\n",
       "      <td>-112.785214</td>\n",
       "    </tr>\n",
       "  </tbody>\n",
       "</table>\n",
       "</div>"
      ],
      "text/plain": [
       "        input      output\n",
       "0 -122.740667 -130.572085\n",
       "1 -121.531419 -129.938929\n",
       "2 -134.917019 -130.141832\n",
       "3 -120.605951 -125.760932\n",
       "4 -129.894781 -112.785214"
      ]
     },
     "execution_count": 36,
     "metadata": {},
     "output_type": "execute_result"
    }
   ],
   "source": [
    "df1.head()"
   ]
  },
  {
   "cell_type": "code",
   "execution_count": 38,
   "id": "8dff6c2f",
   "metadata": {},
   "outputs": [
    {
     "name": "stderr",
     "output_type": "stream",
     "text": [
      "C:\\Users\\vasan\\anaconda3\\lib\\site-packages\\seaborn\\distributions.py:2619: FutureWarning: `distplot` is a deprecated function and will be removed in a future version. Please adapt your code to use either `displot` (a figure-level function with similar flexibility) or `histplot` (an axes-level function for histograms).\n",
      "  warnings.warn(msg, FutureWarning)\n"
     ]
    },
    {
     "data": {
      "text/plain": [
       "<AxesSubplot: ylabel='Density'>"
      ]
     },
     "execution_count": 38,
     "metadata": {},
     "output_type": "execute_result"
    },
    {
     "data": {
      "image/png": "[encoded data removed]",
      "text/plain": [
       "<Figure size 432x288 with 1 Axes>"
      ]
     },
     "metadata": {
      "needs_background": "light"
     },
     "output_type": "display_data"
    }
   ],
   "source": [
    "sns.distplot(df1)"
   ]
  },
  {
   "cell_type": "code",
   "execution_count": 39,
   "id": "32047aa9",
   "metadata": {},
   "outputs": [],
   "source": [
    "X=df1['input']\n",
    "y=df1['output']"
   ]
  },
  {
   "cell_type": "code",
   "execution_count": 45,
   "id": "e8f4c263",
   "metadata": {},
   "outputs": [],
   "source": [
    "X=np.array(X)\n",
    "y=np.array(y)"
   ]
  },
  {
   "cell_type": "code",
   "execution_count": 46,
   "id": "b9eee2db",
   "metadata": {},
   "outputs": [],
   "source": [
    "X=X.reshape(-1,1)\n",
    "y=y.reshape(-1,1)"
   ]
  },
  {
   "cell_type": "code",
   "execution_count": 47,
   "id": "01622a6d",
   "metadata": {},
   "outputs": [],
   "source": [
    "from sklearn.model_selection import train_test_split\n",
    "X_train,X_test,y_train,y_test=train_test_split(X,y,test_size=0.3,random_state=42)"
   ]
  },
  {
   "cell_type": "code",
   "execution_count": 49,
   "id": "47ccd08b",
   "metadata": {},
   "outputs": [
    {
     "data": {
      "text/plain": [
       "array([[ -18.07547571],\n",
       "       [-116.8199204 ],\n",
       "       [ -33.00413535],\n",
       "       ...,\n",
       "       [-120.8121797 ],\n",
       "       [ 105.0756003 ],\n",
       "       [-133.8181748 ]])"
      ]
     },
     "execution_count": 49,
     "metadata": {},
     "output_type": "execute_result"
    }
   ],
   "source": [
    "X_train"
   ]
  },
  {
   "cell_type": "code",
   "execution_count": 50,
   "id": "6f5fef99",
   "metadata": {},
   "outputs": [],
   "source": [
    "from sklearn.preprocessing import StandardScaler\n",
    "Scaler=StandardScaler()\n"
   ]
  },
  {
   "cell_type": "code",
   "execution_count": 51,
   "id": "a809370e",
   "metadata": {},
   "outputs": [],
   "source": [
    "X_train=Scaler.fit_transform(X_train)"
   ]
  },
  {
   "cell_type": "code",
   "execution_count": 59,
   "id": "89397043",
   "metadata": {},
   "outputs": [],
   "source": [
    "X_test=Scaler.fit_transform(X_test)"
   ]
  },
  {
   "cell_type": "code",
   "execution_count": 53,
   "id": "fe0a86c0",
   "metadata": {},
   "outputs": [],
   "source": [
    "from sklearn.linear_model import LinearRegression"
   ]
  },
  {
   "cell_type": "code",
   "execution_count": 55,
   "id": "4456cc6b",
   "metadata": {},
   "outputs": [
    {
     "data": {
      "text/plain": [
       "LinearRegression()"
      ]
     },
     "execution_count": 55,
     "metadata": {},
     "output_type": "execute_result"
    }
   ],
   "source": [
    "reg=LinearRegression()\n",
    "reg.fit(X_train,y_train)"
   ]
  },
  {
   "cell_type": "code",
   "execution_count": 57,
   "id": "3db0303c",
   "metadata": {},
   "outputs": [],
   "source": [
    "regression_predict=reg.predict(X_test)"
   ]
  },
  {
   "cell_type": "code",
   "execution_count": 58,
   "id": "39ad7862",
   "metadata": {},
   "outputs": [
    {
     "data": {
      "text/plain": [
       "array([[-2.50023822e+01],\n",
       "       [-6.15145202e+01],\n",
       "       [-5.38780552e+01],\n",
       "       [ 1.46605345e+01],\n",
       "       [-1.63456954e+00],\n",
       "       [ 1.12714647e+01],\n",
       "       [-4.19374850e+01],\n",
       "       [-3.33134990e+01],\n",
       "       [ 1.85586900e+01],\n",
       "       [-6.95399388e+01],\n",
       "       [-3.09902956e+01],\n",
       "       [ 1.78671947e+01],\n",
       "       [ 4.35133353e+00],\n",
       "       [-2.50971971e+01],\n",
       "       [-8.06547916e+01],\n",
       "       [-4.08519849e+01],\n",
       "       [-9.86817203e+01],\n",
       "       [-7.39291952e+01],\n",
       "       [ 2.43126067e+00],\n",
       "       [ 1.07969274e+01],\n",
       "       [-5.10249172e+01],\n",
       "       [-9.38166856e+01],\n",
       "       [-4.93540208e+01],\n",
       "       [-7.89010678e+01],\n",
       "       [-3.41900215e+00],\n",
       "       [-2.50031142e+01],\n",
       "       [-9.60766277e+01],\n",
       "       [-5.17930712e+01],\n",
       "       [ 1.55287044e+00],\n",
       "       [-8.15847954e+00],\n",
       "       [-8.97245826e+01],\n",
       "       [-9.75171568e+00],\n",
       "       [-4.95218207e+01],\n",
       "       [-8.97088654e+01],\n",
       "       [-1.11028052e+01],\n",
       "       [-1.03708246e+01],\n",
       "       [-9.28991118e+00],\n",
       "       [-5.19811212e+01],\n",
       "       [ 7.08906241e+00],\n",
       "       [-1.39044419e+01],\n",
       "       [-2.19517645e+01],\n",
       "       [-9.47206624e+01],\n",
       "       [-1.18789796e+01],\n",
       "       [-9.42686740e+01],\n",
       "       [-3.91263433e+01],\n",
       "       [-2.45303339e+01],\n",
       "       [-1.17658287e+01],\n",
       "       [-9.42710155e+01],\n",
       "       [-3.41571398e+01],\n",
       "       [-8.11350065e+01],\n",
       "       [-8.25169752e+01],\n",
       "       [-2.72325237e+01],\n",
       "       [-9.76239017e+01],\n",
       "       [ 1.33045693e+01],\n",
       "       [ 1.24125912e+01],\n",
       "       [-3.17095780e+01],\n",
       "       [-1.35713209e+01],\n",
       "       [-3.66638222e+01],\n",
       "       [-1.72652758e+01],\n",
       "       [-9.32261862e+01],\n",
       "       [-1.39299499e+01],\n",
       "       [-1.51756078e+01],\n",
       "       [-1.51707010e+01],\n",
       "       [ 1.63653293e-01],\n",
       "       [-2.74667182e+01],\n",
       "       [-8.70389182e+01],\n",
       "       [-3.55101798e+01],\n",
       "       [-2.55083231e-01],\n",
       "       [-4.27419944e+01],\n",
       "       [ 9.19933684e+00],\n",
       "       [-1.80226588e+01],\n",
       "       [ 1.45262544e+00],\n",
       "       [ 1.77428705e+01],\n",
       "       [-7.89171752e+01],\n",
       "       [-2.25611496e+01],\n",
       "       [ 8.41637656e+00],\n",
       "       [-1.62027545e+01],\n",
       "       [ 1.78279261e+01],\n",
       "       [-1.06486015e+00],\n",
       "       [-3.73096503e+01],\n",
       "       [-1.26515814e+01],\n",
       "       [-8.86989922e+01],\n",
       "       [-3.06931077e+01],\n",
       "       [-5.09336224e+01],\n",
       "       [-6.57934037e+01],\n",
       "       [-9.29127087e+01],\n",
       "       [-3.00351087e+01],\n",
       "       [-9.57471151e+01],\n",
       "       [-5.24460557e+00],\n",
       "       [-6.63322757e+01],\n",
       "       [-4.64509297e+01],\n",
       "       [-2.19505273e+01],\n",
       "       [-5.20495633e+01],\n",
       "       [-2.79123425e+01],\n",
       "       [-9.51726508e+01],\n",
       "       [-3.16041268e-01],\n",
       "       [-9.54163763e+01],\n",
       "       [-8.69429409e-01],\n",
       "       [-4.61434936e+01],\n",
       "       [-1.73849922e+01],\n",
       "       [-2.91823419e+01],\n",
       "       [-1.18791138e+01],\n",
       "       [-3.57488212e+01],\n",
       "       [-1.91048043e+01],\n",
       "       [-3.89363272e+01],\n",
       "       [ 1.53687599e+01],\n",
       "       [-9.04478714e+01],\n",
       "       [-3.85325248e+01],\n",
       "       [-9.40486115e+01],\n",
       "       [-1.46303053e+00],\n",
       "       [-2.91823419e+01],\n",
       "       [-4.87456343e+00],\n",
       "       [-9.50456202e+01],\n",
       "       [-1.15906007e+00],\n",
       "       [-3.46062029e+01],\n",
       "       [-6.69675780e+01],\n",
       "       [-2.45385882e+01],\n",
       "       [-4.52082360e+01],\n",
       "       [-3.00863188e+01],\n",
       "       [-8.51956519e+01],\n",
       "       [-1.99238585e+01],\n",
       "       [-9.10283068e+01],\n",
       "       [ 4.10825270e+00],\n",
       "       [-9.47206624e+01],\n",
       "       [ 1.33395188e+01],\n",
       "       [-9.51726508e+01],\n",
       "       [-8.96994382e+01],\n",
       "       [ 1.24005924e+01],\n",
       "       [ 9.10546997e+00],\n",
       "       [-6.85584894e+00],\n",
       "       [-8.65091722e+01],\n",
       "       [-9.47825912e+01],\n",
       "       [-2.69523023e+01],\n",
       "       [-9.15532559e+01],\n",
       "       [-3.18942724e+01],\n",
       "       [-4.83347380e+01],\n",
       "       [-1.87167856e+01],\n",
       "       [-1.04031441e+00],\n",
       "       [-8.44524216e+01],\n",
       "       [-5.27253665e+01],\n",
       "       [-6.66408520e+00],\n",
       "       [-2.04972385e+01],\n",
       "       [-3.13517500e+01],\n",
       "       [-2.60184230e+01],\n",
       "       [-2.23195347e+01],\n",
       "       [-5.26857396e+01],\n",
       "       [ 1.14966156e+01],\n",
       "       [-4.49658777e+00],\n",
       "       [-9.27784481e+01],\n",
       "       [-1.47187126e+01],\n",
       "       [-2.74667182e+01],\n",
       "       [-8.22149034e+01],\n",
       "       [ 1.62093833e+01],\n",
       "       [-3.73181334e+01],\n",
       "       [-3.87099057e+00],\n",
       "       [-5.68374820e+01],\n",
       "       [-4.27534288e+01],\n",
       "       [-1.38147357e+01],\n",
       "       [-6.05868847e-01],\n",
       "       [-2.05358470e+01],\n",
       "       [-8.23880910e+01],\n",
       "       [ 2.15947477e+01],\n",
       "       [-1.53936451e+01],\n",
       "       [ 5.62076619e+00],\n",
       "       [-1.03423635e+01],\n",
       "       [-9.70705299e+01],\n",
       "       [-9.41044025e+01],\n",
       "       [ 2.45684727e+00],\n",
       "       [ 2.11132336e+01],\n",
       "       [ 1.60164998e+01],\n",
       "       [-4.19179903e+01],\n",
       "       [ 1.12140633e+01],\n",
       "       [ 3.95533931e+00],\n",
       "       [-4.07474356e-02],\n",
       "       [-2.19240003e+01],\n",
       "       [-4.30431785e+01],\n",
       "       [-1.51707010e+01],\n",
       "       [-2.15624942e+01],\n",
       "       [-8.15175296e+01],\n",
       "       [-6.23849870e+01],\n",
       "       [-1.53106319e+01],\n",
       "       [-3.73181334e+01],\n",
       "       [-3.20331012e+01],\n",
       "       [-2.45385882e+01],\n",
       "       [-3.00863188e+01],\n",
       "       [-8.92968014e+01],\n",
       "       [ 8.30855690e+00],\n",
       "       [-9.29127087e+01],\n",
       "       [-8.32315912e+01],\n",
       "       [-2.31324456e+01],\n",
       "       [-7.78422555e+01],\n",
       "       [-7.39208472e+01],\n",
       "       [-3.87099057e+00],\n",
       "       [ 4.28058424e+00],\n",
       "       [-4.71256963e+01],\n",
       "       [-6.65779967e+00],\n",
       "       [-4.81308252e+01],\n",
       "       [-2.84153446e+01],\n",
       "       [ 1.47163420e+01],\n",
       "       [-5.42474523e+01],\n",
       "       [-5.76908864e+01],\n",
       "       [-1.34480982e+01],\n",
       "       [-9.51726508e+01],\n",
       "       [-7.13715294e+01],\n",
       "       [-6.07052649e+01],\n",
       "       [-3.91840973e+01],\n",
       "       [-1.56340928e+01],\n",
       "       [ 1.52894830e+01],\n",
       "       [-8.23782569e+00],\n",
       "       [-7.03490949e+00],\n",
       "       [-9.08050699e+01],\n",
       "       [-2.37175523e+01],\n",
       "       [-1.76502315e+01],\n",
       "       [-3.68661450e+01],\n",
       "       [ 1.03673404e+01],\n",
       "       [-4.50326368e+01],\n",
       "       [-9.06527667e+01],\n",
       "       [-1.33098325e+01],\n",
       "       [ 2.54224670e+00],\n",
       "       [-8.39594407e+01],\n",
       "       [ 1.21892635e+01],\n",
       "       [-2.64435448e+01],\n",
       "       [-6.18350128e+01],\n",
       "       [ 2.23318826e+01],\n",
       "       [-1.93622619e+01],\n",
       "       [-6.13093265e+00],\n",
       "       [-3.84602335e+01],\n",
       "       [-8.83471777e+01],\n",
       "       [-7.64486474e+01],\n",
       "       [-2.46624578e+01],\n",
       "       [-3.50224777e+00],\n",
       "       [-3.35980679e+01],\n",
       "       [-3.64141566e+01],\n",
       "       [-7.13274770e+01],\n",
       "       [-3.32502377e+01],\n",
       "       [-3.13938792e+01],\n",
       "       [-8.83928246e+01],\n",
       "       [-2.00057649e+01],\n",
       "       [-4.84049334e+01],\n",
       "       [-8.08568775e+01],\n",
       "       [-2.57941889e+01],\n",
       "       [-4.38364217e+01],\n",
       "       [-2.19117426e+01],\n",
       "       [-6.03428993e+01],\n",
       "       [-3.04699563e+01],\n",
       "       [-9.27262945e+01],\n",
       "       [-5.99203857e+01],\n",
       "       [-2.34995783e+01],\n",
       "       [-2.53593668e+01],\n",
       "       [-1.87167856e+01],\n",
       "       [-9.75171568e+00],\n",
       "       [-7.52851605e+01],\n",
       "       [-4.06411544e+01],\n",
       "       [-8.79408362e+01],\n",
       "       [-5.62318567e+01],\n",
       "       [ 1.10036063e+01],\n",
       "       [-2.19505273e+01],\n",
       "       [-9.15567435e+01],\n",
       "       [-9.34391626e+01],\n",
       "       [ 1.31227468e+01],\n",
       "       [-6.94134495e+01],\n",
       "       [-3.00863188e+01],\n",
       "       [-2.34339199e+01],\n",
       "       [-4.19313466e+01],\n",
       "       [-5.30287138e+00],\n",
       "       [-2.11818123e+01],\n",
       "       [ 9.35115126e+00],\n",
       "       [-2.83073859e+01],\n",
       "       [-4.99738091e+01],\n",
       "       [-8.97245826e+01],\n",
       "       [ 1.87005561e+01],\n",
       "       [-8.52289057e+01],\n",
       "       [-3.40373125e+01],\n",
       "       [-8.63708597e+01],\n",
       "       [-8.83471777e+01],\n",
       "       [-9.39482177e+01],\n",
       "       [-8.92968014e+01],\n",
       "       [-9.47206624e+01],\n",
       "       [-9.06527667e+01],\n",
       "       [-4.04432412e+01],\n",
       "       [ 1.20789727e+01],\n",
       "       [-4.52082360e+01],\n",
       "       [-1.24587705e+01],\n",
       "       [ 7.26483035e+00],\n",
       "       [ 1.93626783e+01],\n",
       "       [-5.03191710e+01],\n",
       "       [-4.19313466e+01],\n",
       "       [-8.89071129e+01],\n",
       "       [-2.73743883e+01],\n",
       "       [-4.27419944e+01],\n",
       "       [-9.89926337e+01],\n",
       "       [-2.54113229e+01],\n",
       "       [ 1.80954675e+01],\n",
       "       [-3.42929978e+01],\n",
       "       [-2.04655004e+01],\n",
       "       [-4.24660346e+00],\n",
       "       [-9.25318830e+01],\n",
       "       [-2.38229905e+01],\n",
       "       [-3.02484089e+01],\n",
       "       [-6.63561008e+01],\n",
       "       [-5.09336224e+01],\n",
       "       [-3.77235632e+01],\n",
       "       [-1.82534212e+01],\n",
       "       [ 5.09045866e+00],\n",
       "       [-7.23563454e+01],\n",
       "       [-9.30208616e+01],\n",
       "       [-9.39857287e+01],\n",
       "       [-9.51726508e+01],\n",
       "       [ 3.91722075e+00],\n",
       "       [-6.12775598e+01],\n",
       "       [-4.40496468e+00],\n",
       "       [-8.22127984e+01],\n",
       "       [ 1.66412014e+01],\n",
       "       [-2.06303690e+00],\n",
       "       [-9.28713175e+01],\n",
       "       [-6.51703501e+01],\n",
       "       [-1.38147357e+01],\n",
       "       [-7.78422555e+01],\n",
       "       [-7.72928659e+01],\n",
       "       [-5.19080959e+01],\n",
       "       [-7.31104510e+01],\n",
       "       [-4.00300639e+01],\n",
       "       [-3.41571398e+01],\n",
       "       [-3.91260871e+01],\n",
       "       [-3.91260871e+01],\n",
       "       [-8.99686455e+01],\n",
       "       [ 1.60164998e+01],\n",
       "       [-3.32504243e+01],\n",
       "       [-9.02649540e+01],\n",
       "       [-1.76502315e+01],\n",
       "       [-5.99203857e+01],\n",
       "       [-1.33627473e+01],\n",
       "       [-1.12822881e+01],\n",
       "       [-2.87594839e+01],\n",
       "       [-6.23415531e+00],\n",
       "       [-2.09888598e+01],\n",
       "       [ 3.95533931e+00],\n",
       "       [-3.59097802e+01],\n",
       "       [-3.95815394e+00],\n",
       "       [ 1.23805779e+01],\n",
       "       [-8.96862151e+01],\n",
       "       [ 1.24200758e+01],\n",
       "       [ 1.47176816e+01],\n",
       "       [-2.45545352e+01],\n",
       "       [-3.27982493e+01],\n",
       "       [-9.16664659e+01],\n",
       "       [-2.73370257e+01],\n",
       "       [-2.25248154e+00],\n",
       "       [-4.52528801e+00],\n",
       "       [-5.68374820e+01],\n",
       "       [ 6.23696391e+00],\n",
       "       [ 1.24005924e+01],\n",
       "       [-1.15906007e+00],\n",
       "       [-3.27982493e+01],\n",
       "       [-3.88817886e+01],\n",
       "       [-4.29520536e+01],\n",
       "       [ 3.61608480e+00],\n",
       "       [ 1.67472234e-01],\n",
       "       [-5.03536372e+01],\n",
       "       [ 1.12901796e+01],\n",
       "       [-3.57488212e+01],\n",
       "       [-1.69786547e+01],\n",
       "       [-5.55666679e+01],\n",
       "       [-5.26857396e+01],\n",
       "       [-3.68687979e+01],\n",
       "       [-4.18277761e+01],\n",
       "       [-3.02556569e+01],\n",
       "       [-2.55083231e-01],\n",
       "       [-3.96683121e+01],\n",
       "       [-2.50982337e+01],\n",
       "       [-5.94634698e+00],\n",
       "       [-8.86989922e+01],\n",
       "       [-8.59495290e+01],\n",
       "       [-9.92592226e+01],\n",
       "       [-2.64435448e+01],\n",
       "       [-8.85816556e+01],\n",
       "       [-5.54578916e+01],\n",
       "       [-1.75867991e+01],\n",
       "       [-6.05503555e+01],\n",
       "       [ 1.35850591e+01],\n",
       "       [-3.75450879e+01],\n",
       "       [-4.95838284e+01],\n",
       "       [-3.55101798e+01],\n",
       "       [-7.47867641e+01],\n",
       "       [-7.48689791e+00],\n",
       "       [-9.15567435e+01],\n",
       "       [-2.05945620e+01],\n",
       "       [-7.79529345e+01],\n",
       "       [ 1.62093833e+01],\n",
       "       [-2.40926389e+01],\n",
       "       [-7.59213870e+01],\n",
       "       [ 4.32086832e-01],\n",
       "       [-1.92385968e+01],\n",
       "       [-9.74683999e+00],\n",
       "       [-4.01861498e+01],\n",
       "       [-2.19117426e+01],\n",
       "       [-8.43249288e+01],\n",
       "       [-4.90481855e+00],\n",
       "       [-2.30165481e+01],\n",
       "       [-4.31788555e+01],\n",
       "       [-6.04463875e+01],\n",
       "       [ 1.34705463e+01],\n",
       "       [-7.85048669e+01],\n",
       "       [-5.94655659e+01],\n",
       "       [-1.78752670e+01],\n",
       "       [-7.25732300e+01],\n",
       "       [-4.33801015e-01],\n",
       "       [-3.05383072e+01],\n",
       "       [-9.78845813e+01],\n",
       "       [-2.35055107e+01],\n",
       "       [-3.46215343e+01],\n",
       "       [-6.44374385e+01],\n",
       "       [-9.53430294e+01],\n",
       "       [-1.53936451e+01],\n",
       "       [-3.89363272e+01],\n",
       "       [-8.50493692e+01],\n",
       "       [ 1.84044941e+01],\n",
       "       [-2.96343303e+01],\n",
       "       [-2.44437124e+01],\n",
       "       [-6.53486225e+01],\n",
       "       [-2.34976008e+01],\n",
       "       [-3.33786432e+01],\n",
       "       [ 1.02755920e+01],\n",
       "       [-9.17008502e+01],\n",
       "       [-5.55666679e+01],\n",
       "       [-4.08519849e+01],\n",
       "       [-9.07418401e+01],\n",
       "       [-2.55083231e-01],\n",
       "       [-3.50224777e+00],\n",
       "       [-8.79408362e+01],\n",
       "       [-8.92968014e+01],\n",
       "       [-2.50971971e+01],\n",
       "       [-2.23195347e+01],\n",
       "       [ 6.54865824e+00],\n",
       "       [-3.88817886e+01],\n",
       "       [ 9.75907171e+00],\n",
       "       [-3.85325248e+01],\n",
       "       [ 1.69204766e+01],\n",
       "       [ 1.23967860e+01],\n",
       "       [-2.40926389e+01],\n",
       "       [-2.60536363e+01],\n",
       "       [-4.24660346e+00],\n",
       "       [-5.67894424e+00],\n",
       "       [-6.98612995e+01],\n",
       "       [-4.75707298e+01],\n",
       "       [-6.40865603e+00],\n",
       "       [-2.96343303e+01],\n",
       "       [-5.32430794e+01],\n",
       "       [-1.57578710e+01],\n",
       "       [-6.26294848e+01],\n",
       "       [-2.87594839e+01],\n",
       "       [-8.84286316e+00],\n",
       "       [-2.71826628e+01],\n",
       "       [-2.33064925e+01],\n",
       "       [-4.77496740e+00],\n",
       "       [-4.45051428e+01],\n",
       "       [-2.37193453e+01],\n",
       "       [ 9.89123249e+00],\n",
       "       [ 1.91984825e+00],\n",
       "       [-8.44524216e+01],\n",
       "       [-9.56246392e+01],\n",
       "       [-4.27534288e+01],\n",
       "       [-4.52349099e+01],\n",
       "       [-2.37193453e+01],\n",
       "       [-1.20067821e+01],\n",
       "       [-5.76668820e+01],\n",
       "       [-3.32502377e+01],\n",
       "       [-3.93369201e+00],\n",
       "       [ 2.43126067e+00],\n",
       "       [ 4.35133353e+00],\n",
       "       [ 3.36082411e+00],\n",
       "       [-3.46215343e+01],\n",
       "       [-8.70368593e+01],\n",
       "       [-2.34976008e+01],\n",
       "       [-6.71493690e+01],\n",
       "       [ 2.00485885e+00],\n",
       "       [ 2.16519742e+01],\n",
       "       [-9.78845813e+01],\n",
       "       [-4.77496740e+00],\n",
       "       [-1.50704051e+01],\n",
       "       [-6.11569727e+00],\n",
       "       [ 1.73699305e+01],\n",
       "       [-5.10249172e+01],\n",
       "       [-1.88975000e+01],\n",
       "       [-6.07831051e+01],\n",
       "       [-1.41386681e+01],\n",
       "       [-1.63943999e+01],\n",
       "       [-3.39847895e+01],\n",
       "       [-8.90870488e+01],\n",
       "       [-4.09401434e+01],\n",
       "       [-5.22695582e+00],\n",
       "       [-9.47206624e+01],\n",
       "       [-3.21779546e+01],\n",
       "       [-9.42686740e+01],\n",
       "       [-8.80775691e+00],\n",
       "       [-9.34929420e+01],\n",
       "       [-4.54539249e+01],\n",
       "       [-3.68661450e+01],\n",
       "       [-5.42474523e+01],\n",
       "       [-2.11050557e+01],\n",
       "       [ 1.24125912e+01],\n",
       "       [-2.05945620e+01],\n",
       "       [-6.23849870e+01],\n",
       "       [ 1.42085461e+01],\n",
       "       [ 1.57768017e+01],\n",
       "       [ 6.97673144e+00],\n",
       "       [-6.17255080e+01],\n",
       "       [-9.38166856e+01],\n",
       "       [-5.19082843e+01],\n",
       "       [-9.77285119e+01]])"
      ]
     },
     "execution_count": 58,
     "metadata": {},
     "output_type": "execute_result"
    }
   ],
   "source": [
    "regression_predict"
   ]
  },
  {
   "cell_type": "code",
   "execution_count": 60,
   "id": "9b757012",
   "metadata": {},
   "outputs": [
    {
     "data": {
      "text/plain": [
       "<seaborn.axisgrid.FacetGrid at 0x168b881ca60>"
      ]
     },
     "execution_count": 60,
     "metadata": {},
     "output_type": "execute_result"
    },
    {
     "data": {
      "image/png": "[encoded data removed]",
      "text/plain": [
       "<Figure size 402.25x360 with 1 Axes>"
      ]
     },
     "metadata": {
      "needs_background": "light"
     },
     "output_type": "display_data"
    }
   ],
   "source": [
    "sns.displot(regression_predict,kde=True)"
   ]
  },
  {
   "cell_type": "code",
   "execution_count": 65,
   "id": "bc4765a1",
   "metadata": {},
   "outputs": [
    {
     "data": {
      "text/plain": [
       "<matplotlib.collections.PathCollection at 0x168b9be8d90>"
      ]
     },
     "execution_count": 65,
     "metadata": {},
     "output_type": "execute_result"
    },
    {
     "data": {
      "image/png": "[encoded data removed]",
      "text/plain": [
       "<Figure size 432x288 with 1 Axes>"
      ]
     },
     "metadata": {
      "needs_background": "light"
     },
     "output_type": "display_data"
    }
   ],
   "source": [
    "plt.scatter(X_train,y_train,color='red') ##visualizing through train data\n",
    "plt.scatter(X_train,reg.predict(X_train),color=\"blue\")"
   ]
  },
  {
   "cell_type": "code",
   "execution_count": 66,
   "id": "7cb1d4a5",
   "metadata": {},
   "outputs": [
    {
     "data": {
      "text/plain": [
       "<matplotlib.collections.PathCollection at 0x168bac17f10>"
      ]
     },
     "execution_count": 66,
     "metadata": {},
     "output_type": "execute_result"
    },
    {
     "data": {
      "image/png": "[encoded data removed]",
      "text/plain": [
       "<Figure size 432x288 with 1 Axes>"
      ]
     },
     "metadata": {
      "needs_background": "light"
     },
     "output_type": "display_data"
    }
   ],
   "source": [
    "plt.scatter(X_test,y_test,color='red') ####visualizing through the train data\n",
    "plt.scatter(X_test,reg.predict(X_test),color=\"blue\")"
   ]
  },
  {
   "cell_type": "code",
   "execution_count": 93,
   "id": "76170dc2",
   "metadata": {},
   "outputs": [
    {
     "data": {
      "text/plain": [
       "0.22016240891446148"
      ]
     },
     "execution_count": 93,
     "metadata": {},
     "output_type": "execute_result"
    }
   ],
   "source": [
    "reg.score(X_test,y_test)"
   ]
  },
  {
   "cell_type": "code",
   "execution_count": 94,
   "id": "f2ab39ef",
   "metadata": {},
   "outputs": [
    {
     "data": {
      "text/plain": [
       "0.3202182757160671"
      ]
     },
     "execution_count": 94,
     "metadata": {},
     "output_type": "execute_result"
    }
   ],
   "source": [
    "reg.score(X_train,y_train)"
   ]
  },
  {
   "cell_type": "code",
   "execution_count": 70,
   "id": "4c3a2691",
   "metadata": {},
   "outputs": [
    {
     "data": {
      "text/plain": [
       "array([-35.96894945])"
      ]
     },
     "execution_count": 70,
     "metadata": {},
     "output_type": "execute_result"
    }
   ],
   "source": [
    "reg.intercept_"
   ]
  },
  {
   "cell_type": "code",
   "execution_count": 71,
   "id": "7a4127de",
   "metadata": {},
   "outputs": [
    {
     "data": {
      "text/plain": [
       "array([[34.58621689]])"
      ]
     },
     "execution_count": 71,
     "metadata": {},
     "output_type": "execute_result"
    }
   ],
   "source": [
    "reg.coef_"
   ]
  },
  {
   "cell_type": "code",
   "execution_count": 95,
   "id": "d55adabd",
   "metadata": {},
   "outputs": [],
   "source": [
    "## hyperparameter tun\n",
    "from sklearn import linear_model\n"
   ]
  },
  {
   "cell_type": "code",
   "execution_count": 87,
   "id": "18c984d2",
   "metadata": {},
   "outputs": [
    {
     "name": "stdout",
     "output_type": "stream",
     "text": [
      "accuracy with lasso: 0.32019592673056263\n"
     ]
    }
   ],
   "source": [
    "accuracy_lasso=ridge.score(X_train,y_train)\n",
    "print(\"accuracy with lasso:\",accuracy_lasso)"
   ]
  },
  {
   "cell_type": "code",
   "execution_count": 105,
   "id": "3cc274fb",
   "metadata": {},
   "outputs": [
    {
     "data": {
      "text/plain": [
       "Lasso(alpha=10)"
      ]
     },
     "execution_count": 105,
     "metadata": {},
     "output_type": "execute_result"
    }
   ],
   "source": [
    "lasso_reg=linear_model.Lasso(alpha=10)\n",
    "lasso_reg.fit(X_train,y_train)"
   ]
  },
  {
   "cell_type": "code",
   "execution_count": 106,
   "id": "79dab00d",
   "metadata": {},
   "outputs": [
    {
     "data": {
      "text/plain": [
       "0.22157068592911433"
      ]
     },
     "execution_count": 106,
     "metadata": {},
     "output_type": "execute_result"
    }
   ],
   "source": [
    "lasso_reg.score(X_test,y_test)"
   ]
  },
  {
   "cell_type": "code",
   "execution_count": 107,
   "id": "83abb17c",
   "metadata": {},
   "outputs": [
    {
     "data": {
      "text/plain": [
       "0.29344879211381847"
      ]
     },
     "execution_count": 107,
     "metadata": {},
     "output_type": "execute_result"
    }
   ],
   "source": [
    "lasso_reg.score(X_train,y_train)"
   ]
  },
  {
   "cell_type": "code",
   "execution_count": 108,
   "id": "658445e0",
   "metadata": {},
   "outputs": [
    {
     "data": {
      "text/plain": [
       "Ridge(alpha=10)"
      ]
     },
     "execution_count": 108,
     "metadata": {},
     "output_type": "execute_result"
    }
   ],
   "source": [
    "from sklearn.linear_model import Ridge\n",
    "ridge_reg=Ridge(alpha=10)\n",
    "ridge_reg.fit(X_train,y_train)"
   ]
  },
  {
   "cell_type": "code",
   "execution_count": 109,
   "id": "579fbfe7",
   "metadata": {},
   "outputs": [
    {
     "data": {
      "text/plain": [
       "0.32019592673056263"
      ]
     },
     "execution_count": 109,
     "metadata": {},
     "output_type": "execute_result"
    }
   ],
   "source": [
    "ridge_reg.score(X_train,y_train)"
   ]
  },
  {
   "cell_type": "code",
   "execution_count": null,
   "id": "6db88bd9",
   "metadata": {},
   "outputs": [],
   "source": []
  }
 ],
 "metadata": {
  "kernelspec": {
   "display_name": "Python 3 (ipykernel)",
   "language": "python",
   "name": "python3"
  },
  "language_info": {
   "codemirror_mode": {
    "name": "ipython",
    "version": 3
   },
   "file_extension": ".py",
   "mimetype": "text/x-python",
   "name": "python",
   "nbconvert_exporter": "python",
   "pygments_lexer": "ipython3",
   "version": "3.9.12"
  }
 },
 "nbformat": 4,
 "nbformat_minor": 5
}
